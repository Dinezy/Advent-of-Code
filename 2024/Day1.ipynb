{
 "cells": [
  {
   "cell_type": "markdown",
   "metadata": {},
   "source": [
    "Day 1"
   ]
  },
  {
   "cell_type": "code",
   "execution_count": 15,
   "metadata": {},
   "outputs": [],
   "source": [
    "file = open(\"Day1.txt\", \"r\")\n",
    "#print(file.read())\n",
    "\n"
   ]
  },
  {
   "cell_type": "code",
   "execution_count": 16,
   "metadata": {},
   "outputs": [],
   "source": [
    "LeftCol = []\n",
    "RightCol = []"
   ]
  },
  {
   "cell_type": "markdown",
   "metadata": {},
   "source": [
    "Part A"
   ]
  },
  {
   "cell_type": "code",
   "execution_count": null,
   "metadata": {},
   "outputs": [
    {
     "name": "stdout",
     "output_type": "stream",
     "text": [
      "3634568810593\n"
     ]
    }
   ],
   "source": [
    "for line in file.readlines():\n",
    "    left, right = line.split()\n",
    "    LeftCol.append(int(left))\n",
    "    RightCol.append(int(right))\n",
    "\n",
    "\n",
    "left = sorted(LeftCol)\n",
    "right = sorted(RightCol)\n",
    "\n",
    "partA = sum(abs(x - y) for x, y in zip(left, right))\n",
    "print(partA)"
   ]
  },
  {
   "cell_type": "markdown",
   "metadata": {},
   "source": [
    "Part B"
   ]
  },
  {
   "cell_type": "code",
   "execution_count": 20,
   "metadata": {},
   "outputs": [
    {
     "name": "stdout",
     "output_type": "stream",
     "text": [
      "19097157\n"
     ]
    }
   ],
   "source": [
    "count = 0\n",
    "Ans = 0\n",
    "for L in left:\n",
    "    for R in right:\n",
    "        if L == R:\n",
    "            count += 1 \n",
    "    Ans += L * count\n",
    "    count = 0\n",
    "\n",
    "print(Ans)"
   ]
  }
 ],
 "metadata": {
  "kernelspec": {
   "display_name": "Python 3",
   "language": "python",
   "name": "python3"
  },
  "language_info": {
   "codemirror_mode": {
    "name": "ipython",
    "version": 3
   },
   "file_extension": ".py",
   "mimetype": "text/x-python",
   "name": "python",
   "nbconvert_exporter": "python",
   "pygments_lexer": "ipython3",
   "version": "3.11.9"
  }
 },
 "nbformat": 4,
 "nbformat_minor": 2
}
